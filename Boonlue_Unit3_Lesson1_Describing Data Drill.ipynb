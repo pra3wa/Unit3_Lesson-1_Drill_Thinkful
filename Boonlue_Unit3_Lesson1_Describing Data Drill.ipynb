{
 "cells": [
  {
   "cell_type": "code",
   "execution_count": 1,
   "metadata": {},
   "outputs": [],
   "source": [
    "#Unit 3/Lesson 1/Project 5\n",
    "#Drill-Describing Data\n",
    "\n",
    "import numpy as np\n",
    "import pandas as pd\n",
    "%matplotlib inline"
   ]
  },
  {
   "cell_type": "code",
   "execution_count": 3,
   "metadata": {},
   "outputs": [
    {
     "name": "stdout",
     "output_type": "stream",
     "text": [
      "            name  age\n",
      "0           Greg   14\n",
      "1         Marcia   12\n",
      "2          Peter   11\n",
      "3            Jan   10\n",
      "4          Bobby    8\n",
      "5          Cindy    6\n",
      "6  Cousin Oliver    8\n"
     ]
    }
   ],
   "source": [
    "data=pd.DataFrame()\n",
    "\n",
    "data['name']=['Greg', 'Marcia', 'Peter', 'Jan', 'Bobby', 'Cindy', 'Cousin Oliver']\n",
    "data['age']=[14,12,11,10,8,6,8]\n",
    "\n",
    "print(data)"
   ]
  },
  {
   "cell_type": "code",
   "execution_count": 34,
   "metadata": {},
   "outputs": [
    {
     "name": "stdout",
     "output_type": "stream",
     "text": [
      "The mean is 9.857142857142858.\n",
      "The median is 10.0.\n",
      "The mode is 8\n",
      "The variance is 6.408163265306122.\n",
      "The standard deviation is 2.531435020952764.\n",
      "The standard error is 0.9567925036515135.\n"
     ]
    }
   ],
   "source": [
    "#Question 1 Answers\n",
    "\n",
    "print(\"The mean is {}.\".format(np.mean(data['age'])))\n",
    "print('The median is {}.'.format(np.median(data['age'])))\n",
    "print('The mode is 8')\n",
    "print('The variance is {}.'.format(np.var(data['age'])))\n",
    "print('The standard deviation is {}.'.format(np.std(data['age'])))\n",
    "print('The standard error is {}.'.format (np.std(data['age']) / np.sqrt(len(data['age']))))"
   ]
  },
  {
   "cell_type": "code",
   "execution_count": 35,
   "metadata": {},
   "outputs": [],
   "source": [
    "#Question 2 Answer\n",
    "#Mean is a good estimate of the central tendency, because there are not outliers. Reflective of dataset\n",
    "#Standard deviation is another good estimate of variance, because relatively small spread of the dataset"
   ]
  },
  {
   "cell_type": "code",
   "execution_count": 41,
   "metadata": {},
   "outputs": [
    {
     "name": "stdout",
     "output_type": "stream",
     "text": [
      "            name  age\n",
      "0           Greg   14\n",
      "1         Marcia   12\n",
      "2          Peter   11\n",
      "3            Jan   10\n",
      "4          Bobby    8\n",
      "5          Cindy    7\n",
      "6  Cousin Oliver    8\n",
      "\n",
      "The mean is 10.0.\n",
      "The median is 10.0.\n",
      "The mode is 8\n",
      "The variance is 5.428571428571429.\n",
      "The standard deviation is 2.32992949004287.\n",
      "The standard error is 0.8806305718527109.\n"
     ]
    }
   ],
   "source": [
    "#Question 3 Answer\n",
    "\n",
    "data2=pd.DataFrame()\n",
    "\n",
    "data2['name']=['Greg', 'Marcia', 'Peter', 'Jan', 'Bobby', 'Cindy', 'Cousin Oliver']\n",
    "data2['age']=[14,12,11,10,8,7,8]\n",
    "\n",
    "print(data2)\n",
    "\n",
    "print(\"\\nThe mean is {}.\".format(np.mean(data2['age'])))\n",
    "print('The median is {}.'.format(np.median(data2['age'])))\n",
    "print('The mode is 8')\n",
    "print('The variance is {}.'.format(np.var(data2['age'])))\n",
    "print('The standard deviation is {}.'.format(np.std(data2['age'])))\n",
    "print('The standard error is {}.'.format (np.std(data2['age']) / np.sqrt(len(data['age']))))"
   ]
  },
  {
   "cell_type": "code",
   "execution_count": 42,
   "metadata": {},
   "outputs": [],
   "source": [
    "#Everything changed except for the mode"
   ]
  },
  {
   "cell_type": "code",
   "execution_count": 43,
   "metadata": {},
   "outputs": [
    {
     "name": "stdout",
     "output_type": "stream",
     "text": [
      "      name  age\n",
      "0     Greg   14\n",
      "1   Marcia   12\n",
      "2    Peter   11\n",
      "3      Jan   10\n",
      "4    Bobby    8\n",
      "5    Cindy    7\n",
      "6  Jessica    1\n",
      "\n",
      "The mean is 9.0.\n",
      "The median is 10.0.\n",
      "There is no mode.\n",
      "The variance is 15.428571428571429.\n",
      "The standard deviation is 3.927922024247863.\n",
      "The standard error is 1.4846149779161806.\n"
     ]
    }
   ],
   "source": [
    "#Question 4 Answer\n",
    "\n",
    "data2=pd.DataFrame()\n",
    "\n",
    "data2['name']=['Greg', 'Marcia', 'Peter', 'Jan', 'Bobby', 'Cindy', 'Jessica']\n",
    "data2['age']=[14,12,11,10,8,7,1]\n",
    "\n",
    "print(data2)\n",
    "\n",
    "print(\"\\nThe mean is {}.\".format(np.mean(data2['age'])))\n",
    "print('The median is {}.'.format(np.median(data2['age'])))\n",
    "print('There is no mode.')\n",
    "print('The variance is {}.'.format(np.var(data2['age'])))\n",
    "print('The standard deviation is {}.'.format(np.std(data2['age'])))\n",
    "print('The standard error is {}.'.format (np.std(data2['age']) / np.sqrt(len(data['age']))))"
   ]
  },
  {
   "cell_type": "code",
   "execution_count": 44,
   "metadata": {},
   "outputs": [],
   "source": [
    "#The median seems to represent the dataset better, because Jessica's age is considered an outlier and the mean is influence (decreased) due to her age. "
   ]
  },
  {
   "cell_type": "code",
   "execution_count": 45,
   "metadata": {},
   "outputs": [],
   "source": [
    "#Question 5 Answer\n",
    "\n",
    "#Question seems somewhat ambiguous, but to get a good estimate of the total population, it is better that the sample size is larger.\n",
    "#This means that percentage of fans from TV Guide, Entertainment Weekly, and Pop Culture Today are better representation of adult Americans who were Brady Bunch fans."
   ]
  },
  {
   "cell_type": "code",
   "execution_count": null,
   "metadata": {},
   "outputs": [],
   "source": []
  }
 ],
 "metadata": {
  "kernelspec": {
   "display_name": "Python 3",
   "language": "python",
   "name": "python3"
  },
  "language_info": {
   "codemirror_mode": {
    "name": "ipython",
    "version": 3
   },
   "file_extension": ".py",
   "mimetype": "text/x-python",
   "name": "python",
   "nbconvert_exporter": "python",
   "pygments_lexer": "ipython3",
   "version": "3.7.1"
  }
 },
 "nbformat": 4,
 "nbformat_minor": 2
}
